{
  "cells": [
    {
      "cell_type": "code",
      "execution_count": null,
      "metadata": {
        "id": "TqtN9uJgK_gd"
      },
      "outputs": [],
      "source": [
        "# For string similarity\n",
        "# !pip3 install py_stringsimjoin"
      ]
    },
    {
      "cell_type": "code",
      "execution_count": 1,
      "metadata": {
        "id": "6UED17OZgRIF"
      },
      "outputs": [],
      "source": [
        "# Python3 program for a word frequency counter after crawling/scraping a web-page\n",
        "import requests\n",
        "from bs4 import BeautifulSoup\n",
        "import pandas as pd\n",
        "import numpy as np\n",
        "import datetime\n",
        "import urllib\n",
        "import urllib.request\n",
        "from lxml import etree\n",
        "import re\n",
        "import sqlite3"
      ]
    },
    {
      "cell_type": "markdown",
      "metadata": {
        "id": "dwg_aw95al9C"
      },
      "source": [
        "# County Listings"
      ]
    },
    {
      "cell_type": "code",
      "execution_count": 2,
      "metadata": {
        "id": "dd-Jz5JneY0t"
      },
      "outputs": [],
      "source": [
        "def webdoc(url):\n",
        "\n",
        "  # requests to fetch the HTML content of the website\n",
        "  source_code = requests.get(url).text\n",
        "\n",
        "  # BeautifulSoup to parse the HTML content\n",
        "  return BeautifulSoup(source_code, 'lxml')"
      ]
    },
    {
      "cell_type": "code",
      "execution_count": 3,
      "metadata": {
        "id": "J8IuxYUSwqwc"
      },
      "outputs": [],
      "source": [
        "def get_county_list(soup):\n",
        "\n",
        "  # find_all method to find the desired HTML elements\n",
        "  a_tags = soup.find_all('a', href=True)\n",
        "  county_list = []\n",
        "\n",
        "  # Loop through the HTML elements\n",
        "  for tag in a_tags:\n",
        "\n",
        "    # Only get the specific text\n",
        "    if str(tag).find('/secondary-schools-in-ireland/') >= 0:\n",
        "\n",
        "      # append the text with the https to make it public url\n",
        "      if str(tag).find('https://www.schooldays.ie') >= 0:\n",
        "        pass\n",
        "      else:\n",
        "        county_list.append('https://www.schooldays.ie' + tag['href'])\n",
        "\n",
        "  # Reduce the duplicates\n",
        "  county_set = set(county_list)\n",
        "  # print(county_list)\n",
        "  # print(county_set)\n",
        "\n",
        "  # Convert back to list so as to iter over it\n",
        "  county_list = list(county_set)\n",
        "\n",
        "  return county_list"
      ]
    },
    {
      "cell_type": "code",
      "execution_count": 4,
      "metadata": {
        "id": "Vhwha-bywMB7"
      },
      "outputs": [],
      "source": [
        "url = \"https://www.schooldays.ie/articles/secondary-Schools-in-Ireland-by-County\"\n",
        "# get the soup object\n",
        "soup = webdoc(url)\n",
        "\n",
        "# Get all the urls for the counties on the page\n",
        "county_list = get_county_list(soup)"
      ]
    },
    {
      "cell_type": "code",
      "execution_count": 5,
      "metadata": {
        "colab": {
          "base_uri": "https://localhost:8080/"
        },
        "id": "xDgNRTj2J_fv",
        "outputId": "f22599ac-1dc7-4877-e9eb-5a722c2eb586"
      },
      "outputs": [
        {
          "output_type": "execute_result",
          "data": {
            "text/plain": [
              "['https://www.schooldays.ie/secondary-schools-in-ireland/Dublin-24',\n",
              " 'https://www.schooldays.ie/secondary-schools-in-ireland/Sligo',\n",
              " 'https://www.schooldays.ie/secondary-schools-in-ireland/Kerry',\n",
              " 'https://www.schooldays.ie/secondary-schools-in-ireland/Dublin-3',\n",
              " 'https://www.schooldays.ie/secondary-schools-in-ireland/Dublin-16']"
            ]
          },
          "metadata": {},
          "execution_count": 5
        }
      ],
      "source": [
        "county_list[0:5]"
      ]
    },
    {
      "cell_type": "markdown",
      "metadata": {
        "id": "Fsn6i4Uhatah"
      },
      "source": [
        "# Schools from each county"
      ]
    },
    {
      "cell_type": "markdown",
      "metadata": {
        "id": "5z_DQd0Rj8hH"
      },
      "source": [
        "Function lists all the schools on the site"
      ]
    },
    {
      "cell_type": "code",
      "execution_count": 6,
      "metadata": {
        "id": "ROdRZhPg93Zq"
      },
      "outputs": [],
      "source": [
        "def get_secondaryschools(soup):\n",
        "\n",
        "  # find_all method to find the desired HTML elements\n",
        "  a_tags = soup.find_all('a', href=True)\n",
        "  secondary_school_list = []\n",
        "\n",
        "  # Loop through the HTML elements\n",
        "  for tag in a_tags:\n",
        "\n",
        "    # Only specific text\n",
        "    if str(tag).find('/school/') >= 0:\n",
        "\n",
        "      # Further only specific text\n",
        "      if str(tag).find('-rollnumber-') >= 0:\n",
        "\n",
        "        school_name = str(tag['href'])\n",
        "        school_name = school_name.replace(\"/school/\", \"/sch/\")\n",
        "        secondary_school_list.append('https://www.schooldays.ie' + school_name + '/college-progression')\n",
        "        # print(str(tag))\n",
        "\n",
        "  # Reduce the duplicates\n",
        "  secondary_school_set = set(secondary_school_list)\n",
        "  # print(secondary_school_list)\n",
        "  # print(secondary_school_set)\n",
        "  # Convert back to list\n",
        "  secondary_school_list = list(secondary_school_set)\n",
        "\n",
        "  return secondary_school_list"
      ]
    },
    {
      "cell_type": "code",
      "execution_count": 7,
      "metadata": {
        "id": "cMomFR7TxcK1"
      },
      "outputs": [],
      "source": [
        "# initialise the list\n",
        "secondary_schools = []\n",
        "\n",
        "for link in county_list:\n",
        "\n",
        "  # get the soup object\n",
        "  soup = webdoc(link)\n",
        "\n",
        "  secondary_schools = secondary_schools + get_secondaryschools(soup)"
      ]
    },
    {
      "cell_type": "code",
      "execution_count": 8,
      "metadata": {
        "colab": {
          "base_uri": "https://localhost:8080/"
        },
        "id": "Hyca9Dzul8rG",
        "outputId": "c0ce3368-f3a4-430f-cd05-66a82475bab6"
      },
      "outputs": [
        {
          "output_type": "execute_result",
          "data": {
            "text/plain": [
              "['https://www.schooldays.ie/sch/st-marks-community-school-rollnumber-91332O/college-progression',\n",
              " 'https://www.schooldays.ie/sch/st-aidans-community-school-rollnumber-91338D/college-progression',\n",
              " 'https://www.schooldays.ie/sch/jobstown-community-college-rollnumber-70141N/college-progression',\n",
              " 'https://www.schooldays.ie/sch/killinarden-community-school-rollnumber-91337B/college-progression',\n",
              " 'https://www.schooldays.ie/sch/firhouse-educate-together-secondary-school-rollnumber-68307J/college-progression']"
            ]
          },
          "metadata": {},
          "execution_count": 8
        }
      ],
      "source": [
        "secondary_schools[0:5]"
      ]
    },
    {
      "cell_type": "markdown",
      "metadata": {
        "id": "OTLYiKuabmgT"
      },
      "source": [
        "# Get the college progession Stats now"
      ]
    },
    {
      "cell_type": "code",
      "execution_count": 9,
      "metadata": {
        "colab": {
          "base_uri": "https://localhost:8080/"
        },
        "id": "4AGQjJ_NsKpB",
        "outputId": "d686ab78-83fe-494e-9418-54dfa0f4c56d"
      },
      "outputs": [
        {
          "output_type": "stream",
          "name": "stdout",
          "text": [
            " Leaving Cert & College Numbers - \n",
            "notes on data sources \n",
            "Total sitting Leaving Cert 2023: 21.  College places as follows:UCC 1 , UL 3 , Atlantic TU 1 , TU Shannon 8 ,  Total of main colleges 13.\n",
            "Total sitting Leaving Cert 2022: 29.  College places as follows:UL 3 , TU Dublin 1 , Atlantic TU 1 , TU Shannon 6 , National College of Ireland 1 ,  Total of main colleges 12.\n",
            "Total sitting Leaving Cert 2021: 47.  College places as follows:TCD 1 , Uni of Galway 3 , UL 4 , TU Dublin 1 , Mary Immaculate College 1 , TU Shannon 7 ,  Total of main colleges 21.\n",
            "Total sitting Leaving Cert 2020: 41.  College places as follows:UCC 2 , Uni of Galway 1 , UL 5 , AIT 3 , Cork IT 1 , Galway Mayo 7 , LIT 5 , Mary Immaculate College 1 ,  Total of main colleges 25.\n",
            "Total sitting Leaving Cert 2019: 23.  College places as follows:Maynooth U 1 , UL <5 , AIT 3 , Cork IT 1 , Galway Mayo 2 , LIT 3 ,  Total of main colleges 12.5.\n",
            "Total sitting Leaving Cert 2018: 22.  College places as follows:Uni of Galway 2 , Galway Mayo 2 , LIT 2 ,  Total of main colleges 6.\n",
            "Total sitting Leaving Cert 2017: 27.  College places as follows:Uni of Galway 2 , UL 2 , AIT 1 , LIT 3 , Mary Immaculate College 1 ,  Total of main colleges 9.\n",
            "Total sitting Leaving Cert 2016: 20.  College places as follows:UCC 1 , Uni of Galway 2 , UL 1 , Cork IT 1 , Galway Mayo 2 , LIT 4 , Sligo 1 , Waterford 1 , Mary Immaculate College 1 , \n",
            "Total sitting Leaving Cert 2015: 23.  College places as follows:Uni of Galway 1 , UL 2 , Carlow IT 1 , Dundalk 1 , Galway Mayo 5 , LIT 6 , Tralee 1 ,  Total of main colleges 17.\n",
            "Total sitting Leaving Cert 2014: 32.  College places as follows:Uni of Galway 4 , Maynooth U 1 , UL 3 , Galway Mayo 8 , Letterkenny 1 , LIT 2 , Sligo 1 ,  Total of main colleges 20.\n",
            "Total sitting Leaving Cert 2013: 27.  College places as follows:DCU: 1, UCC 1 , Uni of Galway 2 , UL 1 , Carlow IT 1 , Cork IT 1 , Galway Mayo 3 , LIT 3 , Tralee 1 , Mary Immaculate College 1 ,  Total of main colleges 15. \n",
            "\n",
            "\n",
            "1975\n",
            "---------------------------\n"
          ]
        }
      ],
      "source": [
        "url = 'https://www.schooldays.ie/sch/ennistymon-vocational-school-rollnumber-70840Q/college-progression'\n",
        "soup = webdoc(url)\n",
        "content = str(soup.find('table', {'class': 'sch1table'}).find('tr').find('td').get_text())\n",
        "print(content)\n",
        "print(len(content))\n",
        "print('---------------------------')\n",
        "# content = re.sub(\"(http[s]?\\://\\S+)|\\n\",\"\",content)\n",
        "# content.split('</b>  College places as follows:<br>')\n",
        "# soup.select('table.sch1table br')[3].nextSibling"
      ]
    },
    {
      "cell_type": "code",
      "execution_count": null,
      "metadata": {
        "colab": {
          "base_uri": "https://localhost:8080/"
        },
        "id": "niKkM0mQZkFC",
        "outputId": "2636ec28-4525-4371-aa07-916a901a8aea"
      },
      "outputs": [
        {
          "data": {
            "text/plain": [
              "200"
            ]
          },
          "execution_count": 5,
          "metadata": {},
          "output_type": "execute_result"
        }
      ],
      "source": [
        "# import re\n",
        "# temp = re.findall(r'\\d+', ' 200 grams')\n",
        "# int(temp[0])"
      ]
    },
    {
      "cell_type": "markdown",
      "metadata": {
        "id": "r3tu8_-c51SM"
      },
      "source": [
        "# Testing Code"
      ]
    },
    {
      "cell_type": "code",
      "execution_count": 10,
      "metadata": {
        "id": "WrimWoBCXadJ"
      },
      "outputs": [],
      "source": [
        "def create_df():\n",
        "  df = pd.DataFrame(columns=[\n",
        "  'School',\n",
        "  'Roll Number',\n",
        "  'Year',\n",
        "  'Total sitting Leaving Cert',\n",
        "  'DCU',\n",
        "  'Maynooth U',\n",
        "  'TU Dublin',\n",
        "  'Letterkenny',\n",
        "  'National College of Ireland',\n",
        "  'Total of main colleges',\n",
        "  'TCD',\n",
        "  'AIT',\n",
        "  'Dundalk',\n",
        "  'Waterford',\n",
        "  'Cork IT',\n",
        "  'DIT',\n",
        "  'Blanchardstown',\n",
        "  'Carlow IT',\n",
        "  'Galway Mayo',\n",
        "  'Tallaght',\n",
        "  'National College of Art & Design',\n",
        "  'IADT',\n",
        "  'LIT',\n",
        "  'UL',\n",
        "  'Sligo',\n",
        "  'NUIG', 'Mary Immaculate College'])\n",
        "  return df"
      ]
    },
    {
      "cell_type": "code",
      "execution_count": 13,
      "metadata": {
        "id": "fpkZbtvbo95x"
      },
      "outputs": [],
      "source": [
        "def get_college_progressions_test(soup, idx):\n",
        "\n",
        "\n",
        "\n",
        "\n",
        "  name_rollnumber = url.split(\"https://www.schooldays.ie/sch/\")[-1] #extract the name from the url\n",
        "\n",
        "  name = name_rollnumber.split(\"-rollnumber-\")[0]\n",
        "  rollnumber = name_rollnumber.split(\"-rollnumber-\")[1].split(\"/\")[0]\n",
        "  print(f'Looking at school {name} Rollnumber : {rollnumber}')\n",
        "\n",
        "  # get the contents of the table\n",
        "  content = str(soup.find('table', {'class': 'sch1table'}).find('tr').find('td').get_text())\n",
        "\n",
        "  list_of_adm = []\n",
        "\n",
        "  # get a new data frame for saving the stats\n",
        "  df = create_df()\n",
        "\n",
        "  for row in content.splitlines():\n",
        "\n",
        "    DCUCount = 0.0\n",
        "    MaynoothUCount = 0.0\n",
        "    TUDCount = 0.0\n",
        "    LetterkenyCount = 0.0\n",
        "    NCICount = 0.0\n",
        "    Totalofmain = 0.0\n",
        "    TCDCount = 0.0\n",
        "    AITCount = 0.0\n",
        "    DundalkCount = 0.0\n",
        "    WaterfordCount = 0.0\n",
        "    CorkCount = 0.0\n",
        "    DITCount = 0.0\n",
        "    BlanchCount = 0.0\n",
        "    CarlowCount = 0.0\n",
        "    GalwayCount = 0.0\n",
        "    TallaghtCount = 0.0\n",
        "    NCADCount = 0.0\n",
        "    IADTCount = 0.0\n",
        "    LITCount = 0.0\n",
        "    ULCount = 0.0\n",
        "    SligoCount = 0.0\n",
        "    NUIGCount = 0.0\n",
        "    MaryImmaculateCount = 0.0\n",
        "    TotalsittingLC = 0.0\n",
        "    Totalofmain = 0.0\n",
        "    YearsittingLC = 0\n",
        "    # specific text only\n",
        "    if row.startswith('Total sitting Leaving Cert'):\n",
        "\n",
        "      # convert to string type\n",
        "      string = str(row)\n",
        "      # print(row)\n",
        "      # print(string[0:26])\n",
        "      YearsittingLC = int(string[27:31])\n",
        "\n",
        "      # for few schools the year's totals are\n",
        "      TotalsittingLC_str = string[32:37].replace('?','').strip()\n",
        "      TotalsittingLC_str = TotalsittingLC_str.replace('<','')\n",
        "      if TotalsittingLC_str[-1] == '.':\n",
        "          TotalsittingLC_str = TotalsittingLC_str[:-1]\n",
        "\n",
        "      # check if the string is null\n",
        "      if len(TotalsittingLC_str) == 0:\n",
        "        TotalsittingLC = 0.0\n",
        "      else:\n",
        "        TotalsittingLC = float(TotalsittingLC_str)\n",
        "\n",
        "      #\n",
        "      list_of_adm = [member.strip() for member in string[64:].split(', ')]\n",
        "      # print(list_of_adm)\n",
        "      for collegestat in list_of_adm:\n",
        "\n",
        "        # strip the spaces at the ends\n",
        "        collegestat = collegestat.strip()\n",
        "\n",
        "        # find space from right\n",
        "        if len(collegestat) > 0:\n",
        "        # if collegestat.rindex(' ') > 0:\n",
        "          key = collegestat[0:collegestat.rindex(' ')]\n",
        "          value_str = collegestat[collegestat.rindex(' '):].replace('<','')\n",
        "          if value_str[-1] == '.':\n",
        "            value_str = value_str[:-1]\n",
        "          value = float(value_str)\n",
        "        # else:\n",
        "          # key = 'Not Defined'\n",
        "          # value = 0.0\n",
        "        else:\n",
        "            key = 'Not Defined'\n",
        "            value = 0.0\n",
        "        # print(f' Key : {key} , Value : {value}')\n",
        "        if key == 'DCU':\n",
        "          DCUCount = value\n",
        "        if key == 'Maynooth U':\n",
        "          MaynoothUCount = value\n",
        "        if key == 'TU Dublin':\n",
        "          TUDCount = value\n",
        "        if key == 'Letterkenny':\n",
        "          LetterkenyCount = value\n",
        "        if key == 'National College of Ireland':\n",
        "          NCICount = value\n",
        "        if key == 'Total of main colleges':\n",
        "          Totalofmain = value\n",
        "        if key == 'TCD':\n",
        "          TCDCount = value\n",
        "          print(\"TCD ------------------\")\n",
        "        if key == 'AIT':\n",
        "          AITCount = value\n",
        "        if key == 'Dundalk':\n",
        "          DundalkCount = value\n",
        "        if key == 'Waterford':\n",
        "          WaterfordCount = value\n",
        "        if key == 'Cork IT':\n",
        "          CorkCount = value\n",
        "        if key == 'DIT':\n",
        "          DITCount = value\n",
        "        if key == 'Blanchardstown':\n",
        "          BlanchCount = value\n",
        "        if key == 'Carlow IT':\n",
        "          CarlowCount = value\n",
        "        if key == 'Galway Mayo':\n",
        "          GalwayCount = value\n",
        "        if key == 'Tallaght':\n",
        "          TallaghtCount = value\n",
        "        if key == 'National College of Art & Design':\n",
        "          NCADCount = value\n",
        "        if key == 'IADT':\n",
        "          IADTCount = value\n",
        "        if key == 'LIT':\n",
        "          LITCount = value\n",
        "        if key == 'UL':\n",
        "          ULCount = value\n",
        "        if key == 'Sligo':\n",
        "          SligoCount = value\n",
        "        if key == 'NUIG':\n",
        "          NUIGCount = value\n",
        "          print(\"NUIG ------------>>>>\")\n",
        "        if key == 'Mary Immaculate College':\n",
        "          MaryImmaculateCount = value\n",
        "\n",
        "      # for every row read, append it to the df\n",
        "      # row = pd.DataFrame({'DCU': DCUCount, 'Maynooth U': MaynoothUCount,\n",
        "      row_dict = {'DCU': DCUCount, 'Maynooth U': MaynoothUCount,\n",
        "      # schoolstats_df.append({'DCU': DCUCount, 'Maynooth U': MaynoothUCount,\n",
        "                          'TCD Dublin': TUDCount, 'Letterkeny':LetterkenyCount,\n",
        "                          'National College of Ireland': NCICount, 'TCD': TCDCount,\n",
        "                          'AIT': AITCount, 'Dundalk': DundalkCount,\n",
        "                          'Waterford': WaterfordCount, 'Cork IT': CorkCount,\n",
        "                          'DIT': DITCount, 'Blanchardstown': BlanchCount,\n",
        "                          'Carlow IT': CarlowCount, 'Galway Mayo': GalwayCount,\n",
        "                          'Tallaght': TallaghtCount,\n",
        "                          'National College of Art & Design': NCADCount,\n",
        "                          'IADT': IADTCount, 'LIT': LITCount, 'UL': ULCount,\n",
        "                          'Sligo': SligoCount, 'NUIG': NUIGCount,\n",
        "                          'Mary Immaculate College': MaryImmaculateCount,\n",
        "                          'Total sitting Leaving Cert': TotalsittingLC,\n",
        "                          'Year': YearsittingLC,\n",
        "                          'Total of main colleges': Totalofmain,\n",
        "                          'School': name, 'Roll Number': rollnumber\n",
        "                          }\n",
        "      # print(row_dict)\n",
        "      row_dict = {k:[v] for k,v in row_dict.items()}\n",
        "      # print(row_dict)\n",
        "      row = pd.DataFrame(row_dict)\n",
        "      # print(row)\n",
        "      df = df.append(row, ignore_index=True)\n",
        "\n",
        "  return df"
      ]
    },
    {
      "cell_type": "code",
      "execution_count": 14,
      "metadata": {
        "colab": {
          "base_uri": "https://localhost:8080/",
          "height": 370
        },
        "id": "UuqlQoeL5zB-",
        "outputId": "63438f09-2009-40f4-bacd-896d2eedac14"
      },
      "outputs": [
        {
          "output_type": "stream",
          "name": "stdout",
          "text": [
            "Looking at school ennistymon-vocational-school Rollnumber : 70840Q\n"
          ]
        },
        {
          "output_type": "error",
          "ename": "AttributeError",
          "evalue": "'DataFrame' object has no attribute 'append'",
          "traceback": [
            "\u001b[0;31m---------------------------------------------------------------------------\u001b[0m",
            "\u001b[0;31mAttributeError\u001b[0m                            Traceback (most recent call last)",
            "\u001b[0;32m<ipython-input-14-e79c65aafb59>\u001b[0m in \u001b[0;36m<cell line: 3>\u001b[0;34m()\u001b[0m\n\u001b[1;32m      6\u001b[0m   \u001b[0;31m# soup = webdoc(school)\u001b[0m\u001b[0;34m\u001b[0m\u001b[0;34m\u001b[0m\u001b[0m\n\u001b[1;32m      7\u001b[0m \u001b[0;34m\u001b[0m\u001b[0m\n\u001b[0;32m----> 8\u001b[0;31m   \u001b[0mdf\u001b[0m \u001b[0;34m=\u001b[0m \u001b[0mget_college_progressions_test\u001b[0m\u001b[0;34m(\u001b[0m\u001b[0msoup\u001b[0m\u001b[0;34m,\u001b[0m \u001b[0mindex\u001b[0m\u001b[0;34m+\u001b[0m\u001b[0;36m1\u001b[0m\u001b[0;34m)\u001b[0m\u001b[0;34m\u001b[0m\u001b[0;34m\u001b[0m\u001b[0m\n\u001b[0m\u001b[1;32m      9\u001b[0m   \u001b[0mdf\u001b[0m \u001b[0;34m=\u001b[0m \u001b[0mdf\u001b[0m\u001b[0;34m.\u001b[0m\u001b[0mfillna\u001b[0m\u001b[0;34m(\u001b[0m\u001b[0;36m0\u001b[0m\u001b[0;34m)\u001b[0m\u001b[0;34m\u001b[0m\u001b[0;34m\u001b[0m\u001b[0m\n",
            "\u001b[0;32m<ipython-input-13-297ac1456961>\u001b[0m in \u001b[0;36mget_college_progressions_test\u001b[0;34m(soup, idx)\u001b[0m\n\u001b[1;32m    164\u001b[0m       \u001b[0mrow\u001b[0m \u001b[0;34m=\u001b[0m \u001b[0mpd\u001b[0m\u001b[0;34m.\u001b[0m\u001b[0mDataFrame\u001b[0m\u001b[0;34m(\u001b[0m\u001b[0mrow_dict\u001b[0m\u001b[0;34m)\u001b[0m\u001b[0;34m\u001b[0m\u001b[0;34m\u001b[0m\u001b[0m\n\u001b[1;32m    165\u001b[0m       \u001b[0;31m# print(row)\u001b[0m\u001b[0;34m\u001b[0m\u001b[0;34m\u001b[0m\u001b[0m\n\u001b[0;32m--> 166\u001b[0;31m       \u001b[0mdf\u001b[0m \u001b[0;34m=\u001b[0m \u001b[0mdf\u001b[0m\u001b[0;34m.\u001b[0m\u001b[0mappend\u001b[0m\u001b[0;34m(\u001b[0m\u001b[0mrow\u001b[0m\u001b[0;34m,\u001b[0m \u001b[0mignore_index\u001b[0m\u001b[0;34m=\u001b[0m\u001b[0;32mTrue\u001b[0m\u001b[0;34m)\u001b[0m\u001b[0;34m\u001b[0m\u001b[0;34m\u001b[0m\u001b[0m\n\u001b[0m\u001b[1;32m    167\u001b[0m \u001b[0;34m\u001b[0m\u001b[0m\n\u001b[1;32m    168\u001b[0m   \u001b[0;32mreturn\u001b[0m \u001b[0mdf\u001b[0m\u001b[0;34m\u001b[0m\u001b[0;34m\u001b[0m\u001b[0m\n",
            "\u001b[0;32m/usr/local/lib/python3.10/dist-packages/pandas/core/generic.py\u001b[0m in \u001b[0;36m__getattr__\u001b[0;34m(self, name)\u001b[0m\n\u001b[1;32m   5987\u001b[0m         ):\n\u001b[1;32m   5988\u001b[0m             \u001b[0;32mreturn\u001b[0m \u001b[0mself\u001b[0m\u001b[0;34m[\u001b[0m\u001b[0mname\u001b[0m\u001b[0;34m]\u001b[0m\u001b[0;34m\u001b[0m\u001b[0;34m\u001b[0m\u001b[0m\n\u001b[0;32m-> 5989\u001b[0;31m         \u001b[0;32mreturn\u001b[0m \u001b[0mobject\u001b[0m\u001b[0;34m.\u001b[0m\u001b[0m__getattribute__\u001b[0m\u001b[0;34m(\u001b[0m\u001b[0mself\u001b[0m\u001b[0;34m,\u001b[0m \u001b[0mname\u001b[0m\u001b[0;34m)\u001b[0m\u001b[0;34m\u001b[0m\u001b[0;34m\u001b[0m\u001b[0m\n\u001b[0m\u001b[1;32m   5990\u001b[0m \u001b[0;34m\u001b[0m\u001b[0m\n\u001b[1;32m   5991\u001b[0m     \u001b[0;32mdef\u001b[0m \u001b[0m__setattr__\u001b[0m\u001b[0;34m(\u001b[0m\u001b[0mself\u001b[0m\u001b[0;34m,\u001b[0m \u001b[0mname\u001b[0m\u001b[0;34m:\u001b[0m \u001b[0mstr\u001b[0m\u001b[0;34m,\u001b[0m \u001b[0mvalue\u001b[0m\u001b[0;34m)\u001b[0m \u001b[0;34m->\u001b[0m \u001b[0;32mNone\u001b[0m\u001b[0;34m:\u001b[0m\u001b[0;34m\u001b[0m\u001b[0;34m\u001b[0m\u001b[0m\n",
            "\u001b[0;31mAttributeError\u001b[0m: 'DataFrame' object has no attribute 'append'"
          ]
        }
      ],
      "source": [
        "crawl_list = ['https://www.schooldays.ie/sch/ennistymon-vocational-school-rollnumber-70840Q/college-progression']\n",
        "# for url in crawl_list:\n",
        "for index, url in enumerate(crawl_list):\n",
        "  # url = page.geturl()\n",
        "  soup = webdoc(url)\n",
        "  # soup = webdoc(school)\n",
        "\n",
        "  df = get_college_progressions_test(soup, index+1)\n",
        "  df = df.fillna(0)"
      ]
    },
    {
      "cell_type": "code",
      "execution_count": null,
      "metadata": {
        "id": "TJf2SSIT7vON"
      },
      "outputs": [],
      "source": [
        "# print(df.info())\n",
        "# print(df.head())"
      ]
    },
    {
      "cell_type": "code",
      "execution_count": 18,
      "metadata": {
        "id": "dNWCpn8iEcMt"
      },
      "outputs": [],
      "source": [
        "def get_college_progressions(soup, idx):\n",
        "\n",
        "\n",
        "  DCUCount = 0.0\n",
        "  MaynoothUCount = 0.0\n",
        "  TUDCount = 0.0\n",
        "  LetterkenyCount = 0.0\n",
        "  NCICount = 0.0\n",
        "  Totalofmain = 0.0\n",
        "  TCDCount = 0.0\n",
        "  AITCount = 0.0\n",
        "  DundalkCount = 0.0\n",
        "  WaterfordCount = 0.0\n",
        "  CorkCount = 0.0\n",
        "  DITCount = 0.0\n",
        "  BlanchCount = 0.0\n",
        "  CarlowCount = 0.0\n",
        "  GalwayCount = 0.0\n",
        "  TallaghtCount = 0.0\n",
        "  NCADCount = 0.0\n",
        "  IADTCount = 0.0\n",
        "  LITCount = 0.0\n",
        "  ULCount = 0.0\n",
        "  SligoCount = 0.0\n",
        "  NUIGCount = 0.0\n",
        "  MaryImmaculateCount = 0.0\n",
        "  TotalsittingLC = 0.0\n",
        "  Totalofmain = 0.0\n",
        "  YearsittingLC = 0\n",
        "\n",
        "  name_rollnumber = url.split(\"https://www.schooldays.ie/sch/\")[-1] #extract the name from the url\n",
        "\n",
        "  name = name_rollnumber.split(\"-rollnumber-\")[0]\n",
        "  rollnumber = name_rollnumber.split(\"-rollnumber-\")[1].split(\"/\")[0]\n",
        "  print(f'{idx}. Looking at school {name} Rollnumber : {rollnumber}')\n",
        "\n",
        "  # get the contents of the table\n",
        "  content = str(soup.find('table', {'class': 'sch1table'}).find('tr').find('td').get_text())\n",
        "\n",
        "  list_of_adm = []\n",
        "\n",
        "  # get a new data frame for saving the stats\n",
        "  df = create_df()\n",
        "\n",
        "  for row in content.splitlines():\n",
        "\n",
        "    # specific text only\n",
        "    if row.startswith('Total sitting Leaving Cert'):\n",
        "\n",
        "      # convert to string type\n",
        "      string = str(row)\n",
        "\n",
        "      YearsittingLC = int(string[27:31])\n",
        "\n",
        "      # for few schools the year's totals are\n",
        "      TotalsittingLC_str = string[32:37].replace('?','').strip()\n",
        "      TotalsittingLC_str = TotalsittingLC_str.replace('<','')\n",
        "      if TotalsittingLC_str[-1] == '.':\n",
        "          TotalsittingLC_str = TotalsittingLC_str[:-1]\n",
        "\n",
        "      # check if the string is null\n",
        "      if len(TotalsittingLC_str) == 0:\n",
        "        TotalsittingLC = 0.0\n",
        "      else:\n",
        "        TotalsittingLC = float(TotalsittingLC_str)\n",
        "\n",
        "      #\n",
        "      list_of_adm = [member.strip() for member in string[64:].split(', ')]\n",
        "\n",
        "      for collegestat in list_of_adm:\n",
        "\n",
        "        # strip the spaces at the ends\n",
        "        collegestat = collegestat.strip()\n",
        "\n",
        "        # find space from right\n",
        "        if len(collegestat) > 0:\n",
        "\n",
        "          key = collegestat[0:collegestat.rindex(' ')]\n",
        "          value_str = collegestat[collegestat.rindex(' '):].replace('<','')\n",
        "          if value_str[-1] == '.':\n",
        "            value_str = value_str[:-1]\n",
        "          value = float(value_str)\n",
        "\n",
        "        else:\n",
        "            key = 'Not Defined'\n",
        "            value = 0.0\n",
        "\n",
        "\n",
        "        if key == 'DCU':\n",
        "          DCUCount = value\n",
        "        if key == 'Maynooth U':\n",
        "          MaynoothUCount = value\n",
        "        if key == 'TU Dublin':\n",
        "          TUDCount = value\n",
        "        if key == 'Letterkenny':\n",
        "          LetterkenyCount = value\n",
        "        if key == 'National College of Ireland':\n",
        "          NCICount = value\n",
        "        if key == 'Total of main colleges':\n",
        "          Totalofmain = value\n",
        "        if key == 'TCD':\n",
        "          TCDCount = value\n",
        "        if key == 'AIT':\n",
        "          AITCount = value\n",
        "        if key == 'Dundalk':\n",
        "          DundalkCount = value\n",
        "        if key == 'Waterford':\n",
        "          WaterfordCount = value\n",
        "        if key == 'Cork IT':\n",
        "          CorkCount = value\n",
        "        if key == 'DIT':\n",
        "          DITCount = value\n",
        "        if key == 'Blanchardstown':\n",
        "          BlanchCount = value\n",
        "        if key == 'Carlow IT':\n",
        "          CarlowCount = value\n",
        "        if key == 'Galway Mayo':\n",
        "          GalwayCount = value\n",
        "        if key == 'Tallaght':\n",
        "          TallaghtCount = value\n",
        "        if key == 'National College of Art & Design':\n",
        "          NCADCount = value\n",
        "        if key == 'IADT':\n",
        "          IADTCount = value\n",
        "        if key == 'LIT':\n",
        "          LITCount = value\n",
        "        if key == 'UL':\n",
        "          ULCount = value\n",
        "        if key == 'Sligo':\n",
        "          SligoCount = value\n",
        "        if key == 'NUIG':\n",
        "          NUIGCount = value\n",
        "        if key == 'Mary Immaculate College':\n",
        "          MaryImmaculateCount = value\n",
        "\n",
        "      # for every row read, append it to the df\n",
        "      row_dict = {'DCU': DCUCount, 'Maynooth U': MaynoothUCount,\n",
        "                          'TCD Dublin': TUDCount, 'Letterkeny':LetterkenyCount,\n",
        "                          'National College of Ireland': NCICount, 'TCD': TCDCount,\n",
        "                          'AIT': AITCount, 'Dundalk': DundalkCount,\n",
        "                          'Waterford': WaterfordCount, 'Cork IT': CorkCount,\n",
        "                          'DIT': DITCount, 'Blanchardstown': BlanchCount,\n",
        "                          'Carlow IT': CarlowCount, 'Galway Mayo': GalwayCount,\n",
        "                          'Tallaght': TallaghtCount,\n",
        "                          'National College of Art & Design': NCADCount,\n",
        "                          'IADT': IADTCount, 'LIT': LITCount, 'UL': ULCount,\n",
        "                          'Sligo': SligoCount, 'NUIG': NUIGCount,\n",
        "                         'Mary Immaculate College': MaryImmaculateCount,\n",
        "                          'Total sitting Leaving Cert': TotalsittingLC,\n",
        "                          'Year': YearsittingLC,\n",
        "                          'Total of main colleges': Totalofmain,\n",
        "                          'School': name, 'Roll Number': rollnumber\n",
        "                          }\n",
        "\n",
        "      # print(row_dict)\n",
        "      row_dict = {k:[v] for k,v in row_dict.items()}\n",
        "      # print(row_dict)\n",
        "      row = pd.DataFrame(row_dict)\n",
        "      # print(row)\n",
        "      df = df.append(row, ignore_index=True)\n",
        "      # schoolstats_df = pd.concat([schoolstats_df,row],join='inner')\n",
        "\n",
        "  return df"
      ]
    },
    {
      "cell_type": "code",
      "execution_count": 21,
      "metadata": {
        "colab": {
          "base_uri": "https://localhost:8080/",
          "height": 219
        },
        "id": "JNB-iDmiH6o6",
        "outputId": "8635696e-6055-4470-8175-a3199635460c"
      },
      "outputs": [
        {
          "output_type": "stream",
          "name": "stdout",
          "text": [
            "Total number of schools to be crawled : 847\n"
          ]
        },
        {
          "output_type": "error",
          "ename": "NameError",
          "evalue": "name 'df' is not defined",
          "traceback": [
            "\u001b[0;31m---------------------------------------------------------------------------\u001b[0m",
            "\u001b[0;31mNameError\u001b[0m                                 Traceback (most recent call last)",
            "\u001b[0;32m<ipython-input-21-33d2ac688e89>\u001b[0m in \u001b[0;36m<cell line: 6>\u001b[0;34m()\u001b[0m\n\u001b[1;32m      9\u001b[0m   \u001b[0;31m# soup = webdoc(school)\u001b[0m\u001b[0;34m\u001b[0m\u001b[0;34m\u001b[0m\u001b[0m\n\u001b[1;32m     10\u001b[0m \u001b[0;34m\u001b[0m\u001b[0m\n\u001b[0;32m---> 11\u001b[0;31m   \u001b[0mdf\u001b[0m \u001b[0;34m=\u001b[0m \u001b[0mdf\u001b[0m\u001b[0;34m.\u001b[0m\u001b[0mappend\u001b[0m\u001b[0;34m(\u001b[0m\u001b[0mget_college_progressions\u001b[0m\u001b[0;34m(\u001b[0m\u001b[0msoup\u001b[0m\u001b[0;34m,\u001b[0m \u001b[0mindex\u001b[0m\u001b[0;34m+\u001b[0m\u001b[0;36m1\u001b[0m\u001b[0;34m)\u001b[0m\u001b[0;34m,\u001b[0m \u001b[0mignore_index\u001b[0m\u001b[0;34m=\u001b[0m\u001b[0;32mTrue\u001b[0m\u001b[0;34m)\u001b[0m\u001b[0;34m\u001b[0m\u001b[0;34m\u001b[0m\u001b[0m\n\u001b[0m\u001b[1;32m     12\u001b[0m   \u001b[0mdf\u001b[0m \u001b[0;34m=\u001b[0m \u001b[0mdf\u001b[0m\u001b[0;34m.\u001b[0m\u001b[0mfillna\u001b[0m\u001b[0;34m(\u001b[0m\u001b[0;36m0\u001b[0m\u001b[0;34m)\u001b[0m\u001b[0;34m\u001b[0m\u001b[0;34m\u001b[0m\u001b[0m\n",
            "\u001b[0;31mNameError\u001b[0m: name 'df' is not defined"
          ]
        }
      ],
      "source": [
        "# these are the actual pages with college stats\n",
        "crawl_list = secondary_schools\n",
        "print(f'Total number of schools to be crawled : {len(crawl_list)}')\n",
        "\n",
        "# for url in crawl_list:\n",
        "for index, url in enumerate(crawl_list):\n",
        "  # url = page.geturl()\n",
        "  soup = webdoc(url)\n",
        "  # soup = webdoc(school)\n",
        "\n",
        "  df = df.append(get_college_progressions(soup, index+1), ignore_index=True)\n",
        "  df = df.fillna(0)"
      ]
    },
    {
      "cell_type": "code",
      "execution_count": 22,
      "metadata": {
        "id": "3G_ZiAlULFgI",
        "colab": {
          "base_uri": "https://localhost:8080/",
          "height": 146
        },
        "outputId": "0203759c-a40a-4395-d0a7-0d352fbe9891"
      },
      "outputs": [
        {
          "output_type": "error",
          "ename": "NameError",
          "evalue": "name 'df' is not defined",
          "traceback": [
            "\u001b[0;31m---------------------------------------------------------------------------\u001b[0m",
            "\u001b[0;31mNameError\u001b[0m                                 Traceback (most recent call last)",
            "\u001b[0;32m<ipython-input-22-6318e4ba9235>\u001b[0m in \u001b[0;36m<cell line: 1>\u001b[0;34m()\u001b[0m\n\u001b[0;32m----> 1\u001b[0;31m \u001b[0mdf\u001b[0m\u001b[0;34m.\u001b[0m\u001b[0mto_csv\u001b[0m\u001b[0;34m(\u001b[0m\u001b[0;34m'out.csv'\u001b[0m\u001b[0;34m)\u001b[0m\u001b[0;34m\u001b[0m\u001b[0;34m\u001b[0m\u001b[0m\n\u001b[0m",
            "\u001b[0;31mNameError\u001b[0m: name 'df' is not defined"
          ]
        }
      ],
      "source": [
        "df.to_csv('out.csv')"
      ]
    },
    {
      "cell_type": "code",
      "execution_count": null,
      "metadata": {
        "id": "3PG5PKI84CYV"
      },
      "outputs": [],
      "source": [
        "print(df.shape)\n",
        "print(df.head)"
      ]
    },
    {
      "cell_type": "markdown",
      "metadata": {
        "id": "jz-W8DuZy9Xv"
      },
      "source": [
        "https://machinelearningmastery.com/web-crawling-in-python/"
      ]
    },
    {
      "cell_type": "markdown",
      "metadata": {
        "id": "pQF1lovYzFC9"
      },
      "source": [
        "https://medium.com/data-analysis-enthusiast/how-to-write-a-web-crawler-in-python-f77a95a27a70"
      ]
    },
    {
      "cell_type": "code",
      "execution_count": null,
      "metadata": {
        "id": "1ixRNSluMdcz"
      },
      "outputs": [],
      "source": [
        "# dataset is availabe in the google drive, hence need to mount the google drive to load the dataset\n",
        "from google.colab import drive\n",
        "drive.mount('/content/gdrive')"
      ]
    },
    {
      "cell_type": "code",
      "execution_count": null,
      "metadata": {
        "id": "kiotvosHMZ9E"
      },
      "outputs": [],
      "source": [
        "# load dataset into memory\n",
        "df.to_csv(\"/content/gdrive/MyDrive/MachineLearning/data/school_progression.csv\")"
      ]
    },
    {
      "cell_type": "code",
      "execution_count": null,
      "metadata": {
        "id": "6iJVTaen5Z-8"
      },
      "outputs": [],
      "source": [
        "import networkx as nx"
      ]
    },
    {
      "cell_type": "code",
      "execution_count": null,
      "metadata": {
        "id": "sygdHz8B-Mrl"
      },
      "outputs": [],
      "source": [
        "G = nx.Graph()\n",
        "G = nx.from_pandas_edgelist(df, source='School', target=['TCD Dublin','Letterkeny'])"
      ]
    },
    {
      "cell_type": "code",
      "execution_count": null,
      "metadata": {
        "id": "Ine-hhJg5b--"
      },
      "outputs": [],
      "source": [
        "G.add_nodes_from(nodes_for_adding=df.ID.tolist())"
      ]
    },
    {
      "cell_type": "code",
      "execution_count": null,
      "metadata": {
        "colab": {
          "base_uri": "https://localhost:8080/",
          "height": 374
        },
        "id": "Rsuu0UVf-3GX",
        "outputId": "0f613a3b-b1af-4d6a-ec34-553f9fbc18a6"
      },
      "outputs": [
        {
          "ename": "ModuleNotFoundError",
          "evalue": "ignored",
          "output_type": "error",
          "traceback": [
            "\u001b[0;31m---------------------------------------------------------------------------\u001b[0m",
            "\u001b[0;31mModuleNotFoundError\u001b[0m                       Traceback (most recent call last)",
            "\u001b[0;32m<ipython-input-63-065795be1558>\u001b[0m in \u001b[0;36m<module>\u001b[0;34m\u001b[0m\n\u001b[0;32m----> 1\u001b[0;31m \u001b[0;32mimport\u001b[0m \u001b[0mitertools\u001b[0m\u001b[0;34m.\u001b[0m\u001b[0mcombinations\u001b[0m \u001b[0;32mas\u001b[0m \u001b[0mcomb\u001b[0m\u001b[0;34m\u001b[0m\u001b[0;34m\u001b[0m\u001b[0m\n\u001b[0m\u001b[1;32m      2\u001b[0m \u001b[0;34m\u001b[0m\u001b[0m\n\u001b[1;32m      3\u001b[0m \u001b[0medges\u001b[0m \u001b[0;34m=\u001b[0m \u001b[0mset\u001b[0m\u001b[0;34m(\u001b[0m\u001b[0;34m)\u001b[0m\u001b[0;34m\u001b[0m\u001b[0;34m\u001b[0m\u001b[0m\n\u001b[1;32m      4\u001b[0m \u001b[0;32mfor\u001b[0m \u001b[0mcol\u001b[0m \u001b[0;32min\u001b[0m \u001b[0mdf\u001b[0m\u001b[0;34m:\u001b[0m\u001b[0;34m\u001b[0m\u001b[0;34m\u001b[0m\u001b[0m\n\u001b[1;32m      5\u001b[0m     \u001b[0;32mfor\u001b[0m \u001b[0m_\u001b[0m\u001b[0;34m,\u001b[0m \u001b[0mdata\u001b[0m \u001b[0;32min\u001b[0m \u001b[0mdf\u001b[0m\u001b[0;34m.\u001b[0m\u001b[0mgroupby\u001b[0m\u001b[0;34m(\u001b[0m\u001b[0mcol\u001b[0m\u001b[0;34m)\u001b[0m\u001b[0;34m:\u001b[0m\u001b[0;34m\u001b[0m\u001b[0;34m\u001b[0m\u001b[0m\n",
            "\u001b[0;31mModuleNotFoundError\u001b[0m: No module named 'itertools.combinations'; 'itertools' is not a package",
            "",
            "\u001b[0;31m---------------------------------------------------------------------------\u001b[0;32m\nNOTE: If your import is failing due to a missing package, you can\nmanually install dependencies using either !pip or !apt.\n\nTo view examples of installing some common dependencies, click the\n\"Open Examples\" button below.\n\u001b[0;31m---------------------------------------------------------------------------\u001b[0m\n"
          ]
        }
      ],
      "source": [
        "# import itertools.combinations as comb\n",
        "\n",
        "edges = set()\n",
        "for col in df:\n",
        "    for _, data in df.groupby(col):\n",
        "        edges.update(comb(data.index, 2))\n",
        "\n",
        "G = nx.Graph()\n",
        "G.add_nodes_from(df.index)\n",
        "G.add_edges_from(edges)"
      ]
    }
  ],
  "metadata": {
    "colab": {
      "provenance": []
    },
    "kernelspec": {
      "display_name": "Python 3",
      "name": "python3"
    },
    "language_info": {
      "name": "python"
    }
  },
  "nbformat": 4,
  "nbformat_minor": 0
}